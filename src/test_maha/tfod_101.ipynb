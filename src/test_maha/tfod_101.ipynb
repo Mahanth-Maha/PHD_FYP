{
 "cells": [
  {
   "cell_type": "markdown",
   "metadata": {},
   "source": [
    "# List of Commands i executed in creating TF-OD"
   ]
  },
  {
   "cell_type": "code",
   "execution_count": 5,
   "metadata": {},
   "outputs": [
    {
     "name": "stdout",
     "output_type": "stream",
     "text": [
      "C:\\Maha\\dev\\TensorFlow\n"
     ]
    }
   ],
   "source": [
    "cd \"C:\\Maha\\dev\\TensorFlow\""
   ]
  },
  {
   "cell_type": "code",
   "execution_count": 6,
   "metadata": {},
   "outputs": [
    {
     "data": {
      "text/plain": [
       "'C:\\\\Maha\\\\dev\\\\TensorFlow'"
      ]
     },
     "execution_count": 6,
     "metadata": {},
     "output_type": "execute_result"
    }
   ],
   "source": [
    "pwd"
   ]
  },
  {
   "cell_type": "code",
   "execution_count": 7,
   "metadata": {},
   "outputs": [
    {
     "name": "stdout",
     "output_type": "stream",
     "text": [
      " Volume in drive C has no label.\n",
      " Volume Serial Number is 32DC-DF7B\n",
      "\n",
      " Directory of C:\\Maha\\dev\\TensorFlow\n",
      "\n",
      "13-11-2022  15:56    <DIR>          .\n",
      "13-11-2022  14:25    <DIR>          ..\n",
      "13-11-2022  15:22    <DIR>          models\n",
      "13-11-2022  15:56    <DIR>          scripts\n",
      "13-11-2022  15:47    <DIR>          workspace\n",
      "               0 File(s)              0 bytes\n",
      "               5 Dir(s)  905,643,003,904 bytes free\n"
     ]
    }
   ],
   "source": [
    "ls"
   ]
  },
  {
   "cell_type": "code",
   "execution_count": 8,
   "metadata": {},
   "outputs": [
    {
     "name": "stderr",
     "output_type": "stream",
     "text": [
      "fatal: destination path 'models' already exists and is not an empty directory.\n"
     ]
    }
   ],
   "source": [
    "!git clone https://github.com/tensorflow/models.git"
   ]
  },
  {
   "cell_type": "code",
   "execution_count": null,
   "metadata": {},
   "outputs": [],
   "source": []
  }
 ],
 "metadata": {
  "kernelspec": {
   "display_name": "Python 3.9.0 ('ds')",
   "language": "python",
   "name": "python3"
  },
  "language_info": {
   "codemirror_mode": {
    "name": "ipython",
    "version": 3
   },
   "file_extension": ".py",
   "mimetype": "text/x-python",
   "name": "python",
   "nbconvert_exporter": "python",
   "pygments_lexer": "ipython3",
   "version": "3.9.0"
  },
  "orig_nbformat": 4,
  "vscode": {
   "interpreter": {
    "hash": "662096348ab75530b8d632ded7aa4a72791428b3f20309da69257f25b5c13dd9"
   }
  }
 },
 "nbformat": 4,
 "nbformat_minor": 2
}
